{
  "nbformat": 4,
  "nbformat_minor": 0,
  "metadata": {
    "colab": {
      "provenance": []
    },
    "kernelspec": {
      "name": "python3",
      "display_name": "Python 3"
    },
    "language_info": {
      "name": "python"
    }
  },
  "cells": [
    {
      "cell_type": "code",
      "source": [
        "#q1\n",
        "my_list = [('Adnan', 25, \"Programmer\"), (\"Swati\", 27, 'DBA'), ('Anand', 26, \"Tester\")]\n",
        "\n",
        "for a in my_list:\n",
        "    name, age, occupation = a\n",
        "    print(f\"{name} is {age} years old and works as {occupation}.\")"
      ],
      "metadata": {
        "colab": {
          "base_uri": "https://localhost:8080/"
        },
        "id": "L3VDAknsXp-0",
        "outputId": "5d9c3f7b-db28-4446-cfb7-c10d32523559"
      },
      "execution_count": null,
      "outputs": [
        {
          "output_type": "stream",
          "name": "stdout",
          "text": [
            "Adnan is 25 years old and works as Programmer.\n",
            "Swati is 27 years old and works as DBA.\n",
            "Anand is 26 years old and works as Tester.\n"
          ]
        }
      ]
    },
    {
      "cell_type": "code",
      "source": [
        "#q2\n",
        "inp=int(input(\"Enter a 3 digit number: \"))\n",
        "result = \"\"\n",
        "letters = [(4, \"r\"), (2, \"w\"), (1, \"x\")]\n",
        "\n",
        "for i in [int(n) for n in str(inp)]:\n",
        "        \n",
        "        for x, l in letters:\n",
        "            if i >= x:\n",
        "                result += l\n",
        "                i -= x\n",
        "            else:\n",
        "                result += \"-\"\n",
        "print(f\"The file permission is: {result}\")"
      ],
      "metadata": {
        "colab": {
          "base_uri": "https://localhost:8080/"
        },
        "id": "8c-k04MOcXle",
        "outputId": "26dc56c6-135e-4b62-d65e-60daea465918"
      },
      "execution_count": null,
      "outputs": [
        {
          "output_type": "stream",
          "name": "stdout",
          "text": [
            "Enter a 3 digit number: 642\n",
            "The file permission is: rw-r---w-\n"
          ]
        }
      ]
    },
    {
      "cell_type": "code",
      "source": [
        "#q3\n",
        "dict1 = {'a': 1, 'b': 2, 'c': 3}\n",
        "\n",
        "my_list = [(k,v) for k,v in dict1.items()]\n",
        "print(my_list)"
      ],
      "metadata": {
        "colab": {
          "base_uri": "https://localhost:8080/"
        },
        "id": "8yhQX8YGdK8u",
        "outputId": "e0e05900-4f78-4941-8915-8bc407bf3e19"
      },
      "execution_count": null,
      "outputs": [
        {
          "output_type": "stream",
          "name": "stdout",
          "text": [
            "[('a', 1), ('b', 2), ('c', 3)]\n"
          ]
        }
      ]
    },
    {
      "cell_type": "code",
      "source": [
        "#q4\n",
        "my_tuple = (56,5,6,1,2)\n",
        "\n",
        "x = set(my_tuple)\n",
        "x = sorted(x)\n",
        "temp = tuple(x)\n",
        "k = 2\n",
        "print(f\"The maximum {k} elements: {temp[-k:]}\")\n",
        "print(f\"The minimum {k} elements: {temp[:k]}\")\n"
      ],
      "metadata": {
        "colab": {
          "base_uri": "https://localhost:8080/"
        },
        "id": "D9LLEQyzdSfz",
        "outputId": "8827ffcd-6e6e-4e9a-eb6e-f779668d1c05"
      },
      "execution_count": null,
      "outputs": [
        {
          "output_type": "stream",
          "name": "stdout",
          "text": [
            "The maximum 2 elements: (6, 56)\n",
            "The minimum 2 elements: (1, 2)\n"
          ]
        }
      ]
    },
    {
      "cell_type": "code",
      "source": [
        "#q5\n",
        "my_list = [2, 5, 1, 4]\n",
        "rs = [(i,i**2) for i in my_list]\n",
        "print(rs)"
      ],
      "metadata": {
        "colab": {
          "base_uri": "https://localhost:8080/"
        },
        "id": "R3xuWvqadop_",
        "outputId": "6e8ef1c7-4dc0-4996-d98c-51fc70a8e32f"
      },
      "execution_count": null,
      "outputs": [
        {
          "output_type": "stream",
          "name": "stdout",
          "text": [
            "[(2, 4), (5, 25), (1, 1), (4, 16)]\n"
          ]
        }
      ]
    },
    {
      "cell_type": "code",
      "source": [
        "#q6\n",
        "dict1 = {1:[1,4,3,2],\n",
        "         2:[5,6,7,8],\n",
        "         3:[3,6,5,1]}\n",
        "\n",
        "rs = list(set(sorted(element for value in dict1.values() for element in value)))\n",
        "print(rs)"
      ],
      "metadata": {
        "colab": {
          "base_uri": "https://localhost:8080/"
        },
        "id": "UiOmDHUxeTyG",
        "outputId": "36f2b42d-38ff-4dcf-de2d-7f0d8c3f3076"
      },
      "execution_count": null,
      "outputs": [
        {
          "output_type": "stream",
          "name": "stdout",
          "text": [
            "[1, 2, 3, 4, 5, 6, 7, 8]\n"
          ]
        }
      ]
    },
    {
      "cell_type": "code",
      "source": [
        "#q7\n",
        "dict1 = {1: \"Jan\", 2: \"Feb\", 3: \"Mar\"}\n",
        "l=[]\n",
        "for i in dict1:\n",
        "    l.append(i)\n",
        "for i in dict1:\n",
        "    l.append(dict1[i])\n",
        "print(l)"
      ],
      "metadata": {
        "colab": {
          "base_uri": "https://localhost:8080/"
        },
        "id": "6pDvkfWIeX9Q",
        "outputId": "21a977d3-f72e-43b6-8f55-5d6a98827b02"
      },
      "execution_count": null,
      "outputs": [
        {
          "output_type": "stream",
          "name": "stdout",
          "text": [
            "[1, 2, 3, 'Jan', 'Feb', 'Mar']\n"
          ]
        }
      ]
    },
    {
      "cell_type": "code",
      "source": [
        "#q8\n",
        "dict1 = {2:'Jan', 1:'March', 4:'Oct',5:'July',3:'Dec'}\n",
        "\n",
        "dict2={}\n",
        "for i,j in sorted(dict1.items()):\n",
        "    dict2[i]=j\n",
        "print(dict2)\n",
        "\n",
        "dict3={}\n",
        "for i,j in sorted([(v,k) for k,v in dict1.items()]):\n",
        "    dict3[j]=i\n",
        "print(dict3)"
      ],
      "metadata": {
        "colab": {
          "base_uri": "https://localhost:8080/"
        },
        "id": "0gh9azQfeb_l",
        "outputId": "01ec2c63-581e-4f70-baf6-94b5fe47b95e"
      },
      "execution_count": null,
      "outputs": [
        {
          "output_type": "stream",
          "name": "stdout",
          "text": [
            "{1: 'March', 2: 'Jan', 3: 'Dec', 4: 'Oct', 5: 'July'}\n",
            "{3: 'Dec', 2: 'Jan', 5: 'July', 1: 'March', 4: 'Oct'}\n"
          ]
        }
      ]
    },
    {
      "cell_type": "code",
      "source": [
        "#q9\n",
        "s = \"Python is great and java is also great \"\n",
        "print(s)\n",
        "l = s.split()\n",
        "k =[]\n",
        "for i in l:\n",
        "    if (s.count(i)>=1) and (i not in k):\n",
        "        k.append(i)\n",
        "print(\" \".join(k))"
      ],
      "metadata": {
        "colab": {
          "base_uri": "https://localhost:8080/"
        },
        "id": "2iYF1qbffE_e",
        "outputId": "2203dd71-931b-4258-8702-9f40df70dd8c"
      },
      "execution_count": null,
      "outputs": [
        {
          "output_type": "stream",
          "name": "stdout",
          "text": [
            "Python is great and java is also great \n",
            "Python is great and java also\n"
          ]
        }
      ]
    },
    {
      "cell_type": "code",
      "source": [
        "#q10\n",
        "st = (\"This is a sentence.\").lower()\n",
        "print(st)\n",
        "rs = {}\n",
        "\n",
        "for i in st:\n",
        "    if i .isalpha() and i not in rs:\n",
        "        rs[i] = st.lower().count(i)\n",
        "print(rs)"
      ],
      "metadata": {
        "colab": {
          "base_uri": "https://localhost:8080/"
        },
        "id": "YDLTVrR0fJne",
        "outputId": "763cf4e8-55bd-4935-a764-012292ca04df"
      },
      "execution_count": null,
      "outputs": [
        {
          "output_type": "stream",
          "name": "stdout",
          "text": [
            "this is a sentence.\n",
            "{'t': 2, 'h': 1, 'i': 2, 's': 3, 'a': 1, 'e': 3, 'n': 2, 'c': 1}\n"
          ]
        }
      ]
    },
    {
      "cell_type": "code",
      "source": [
        "#q11\n",
        "st = (\"\"\"Fear leads to anger; Anger leads to hatred; Hatred leads to conflict;\n",
        "Conflict leads to suffering.\"\"\").lower()\n",
        "\n",
        "specialChar =  ['~', ':', \"'\", '+', '[', '@', '^', '{', '%', '(', '-', '\"', '*', '|', ',', '&', '<', '`', '}', '.', '_', '=', ']', '!', '>', ';', '?', '#', '$', ')', '/']\n",
        "for i in specialChar:\n",
        "    st = st.replace(i,' ')\n",
        "x = st.split()\n",
        "rs = {}\n",
        "\n",
        "for i in x:\n",
        "    if i in rs:\n",
        "        rs[i] += 1\n",
        "    else:\n",
        "        rs[i] = 1\n",
        "print(rs)"
      ],
      "metadata": {
        "colab": {
          "base_uri": "https://localhost:8080/"
        },
        "id": "4DO_BDg8fUaP",
        "outputId": "2e5c507b-ea7d-414b-a146-cdb83b536f3b"
      },
      "execution_count": null,
      "outputs": [
        {
          "output_type": "stream",
          "name": "stdout",
          "text": [
            "{'fear': 1, 'leads': 4, 'to': 4, 'anger': 2, 'hatred': 2, 'conflict': 2, 'suffering': 1}\n"
          ]
        }
      ]
    },
    {
      "cell_type": "code",
      "source": [
        "#q12\n",
        "list1 = [\"program.c\", \"stdio.cpp\", \"sample.cpp\", \"a.out\", \"math.cpp\", \"cpp.out\"]\n",
        "print([i.replace('.cpp','.h') for i in list1])"
      ],
      "metadata": {
        "colab": {
          "base_uri": "https://localhost:8080/"
        },
        "id": "5XPZJxxvfw8v",
        "outputId": "6e6e7e3a-4cfa-4491-bfae-5df421740b0f"
      },
      "execution_count": null,
      "outputs": [
        {
          "output_type": "stream",
          "name": "stdout",
          "text": [
            "['program.c', 'stdio.h', 'sample.h', 'a.out', 'math.h', 'cpp.out']\n"
          ]
        }
      ]
    },
    {
      "cell_type": "code",
      "source": [
        "#q13\n",
        "dict1 = {\"gmail.com\": [\"paul.buchheit\", \"sanjeev.singh\", \"kevin.fox\"], \"yahoo.com\": [\"jerry.yang\", \"david.filo\"], \"hotmail.com\": [\"sabeer.bhatia\"]}\n",
        "list1 = []\n",
        "for k,v in dict1.items():\n",
        "    for v2 in v:\n",
        "        st = f\"{v2}@{k}\"\n",
        "        list1.append(st)\n",
        "print(list1)"
      ],
      "metadata": {
        "id": "cw3492bgf0Jm",
        "colab": {
          "base_uri": "https://localhost:8080/"
        },
        "outputId": "7379eabd-ad60-4c22-da0e-c6da360c429e"
      },
      "execution_count": null,
      "outputs": [
        {
          "output_type": "stream",
          "name": "stdout",
          "text": [
            "['paul.buchheit@gmail.com', 'sanjeev.singh@gmail.com', 'kevin.fox@gmail.com', 'jerry.yang@yahoo.com', 'david.filo@yahoo.com', 'sabeer.bhatia@hotmail.com']\n"
          ]
        }
      ]
    },
    {
      "cell_type": "code",
      "source": [
        "#q14\n",
        "dict1 = {\"local\":[\"admin\", \"Ananya\"],\"public\":[\"admin\", \"Zahir\"], \"administrator\":[\"admin\"] }\n",
        "dict2={}\n",
        "for i in dict1:\n",
        "    for j in dict1[i]:\n",
        "        if j not in dict2:\n",
        "            dict2[j]=[i]\n",
        "        else:\n",
        "            dict2[j].append(i)\n",
        "print(dict2)"
      ],
      "metadata": {
        "colab": {
          "base_uri": "https://localhost:8080/"
        },
        "id": "FCl3I3vfgWAm",
        "outputId": "17ef66f7-5f27-48a3-bc8f-1913e6099055"
      },
      "execution_count": null,
      "outputs": [
        {
          "output_type": "stream",
          "name": "stdout",
          "text": [
            "{'admin': ['local', 'public', 'administrator'], 'Ananya': ['local'], 'Zahir': ['public']}\n"
          ]
        }
      ]
    },
    {
      "cell_type": "code",
      "source": [
        "#q15\n",
        "groc = {\"apples\": 100.50,\"bananas\": 40, \"oranges\": 150, \"bread\": 12.50, \"milk\": 23.50, \"eggs\": 39}\n",
        "sum = 0\n",
        "for price in groc.values():\n",
        "    sum = sum + price\n",
        "groc[\"total\"] = sum\n",
        "print(groc)"
      ],
      "metadata": {
        "colab": {
          "base_uri": "https://localhost:8080/"
        },
        "id": "YJe9WRKCgcOv",
        "outputId": "a8d48121-176d-4a4d-ab8f-46ef0f4c4a0d"
      },
      "execution_count": null,
      "outputs": [
        {
          "output_type": "stream",
          "name": "stdout",
          "text": [
            "{'apples': 100.5, 'bananas': 40, 'oranges': 150, 'bread': 12.5, 'milk': 23.5, 'eggs': 39, 'total': 365.5}\n"
          ]
        }
      ]
    },
    {
      "cell_type": "code",
      "source": [
        "#q16\n",
        "dict1 = {\"roll\": 5, \"Name\": \"Ananya\", \"marks\": [79, 88, 92]}\n",
        "totalMarks = sum(dict1[\"marks\"])\n",
        "dict1[\"total\"] = totalMarks\n",
        "print(dict1)\n",
        "\n",
        "dict2 = {\"roll\": 5, \"Name\": \"Ananya\", \"marks\": [79, 88, 92]}\n",
        "dict2[\"marks\"].append(totalMarks)\n",
        "print(dict2)\n",
        "\n",
        "dict3 = {\"roll\": 5, \"Name\": \"Ananya\", \"marks\": [79, 88, 92]}\n",
        "dict3[\"marks\"] = totalMarks\n",
        "print(dict3)"
      ],
      "metadata": {
        "colab": {
          "base_uri": "https://localhost:8080/"
        },
        "id": "jzzHTDyXgqCu",
        "outputId": "08dc0874-d024-4724-ee19-c0151c9a6f6b"
      },
      "execution_count": 1,
      "outputs": [
        {
          "output_type": "stream",
          "name": "stdout",
          "text": [
            "{'roll': 5, 'Name': 'Ananya', 'marks': [79, 88, 92], 'total': 259}\n",
            "{'roll': 5, 'Name': 'Ananya', 'marks': [79, 88, 92, 259]}\n",
            "{'roll': 5, 'Name': 'Ananya', 'marks': 259}\n"
          ]
        }
      ]
    }
  ]
}