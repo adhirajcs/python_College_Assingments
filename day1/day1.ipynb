{
  "nbformat": 4,
  "nbformat_minor": 0,
  "metadata": {
    "colab": {
      "provenance": []
    },
    "kernelspec": {
      "name": "python3",
      "display_name": "Python 3"
    },
    "language_info": {
      "name": "python"
    }
  },
  "cells": [
    {
      "cell_type": "markdown",
      "source": [
        "## Day 1\n",
        "\n",
        "## 013_Adhiraj"
      ],
      "metadata": {
        "id": "HSB5BXeS5JAG"
      }
    },
    {
      "cell_type": "markdown",
      "source": [
        "1. i) Write a script that reads two integers, and prints the average of the two numbers.\n",
        "ii) Modify 1.i) to print the larger of the two numbers."
      ],
      "metadata": {
        "id": "HBSvyFQ95Rq4"
      }
    },
    {
      "cell_type": "code",
      "execution_count": null,
      "metadata": {
        "colab": {
          "base_uri": "https://localhost:8080/"
        },
        "id": "n7qBkq535HFW",
        "outputId": "42b307ed-0eaf-4a81-881d-5ff7ed3a3feb"
      },
      "outputs": [
        {
          "output_type": "stream",
          "name": "stdout",
          "text": [
            "Average of numbers =  15.0\n",
            "The larger number is  20\n"
          ]
        }
      ],
      "source": [
        "n1 = 10\n",
        "n2 = 20\n",
        "avg=(n1+n2)/2\n",
        "print(\"Average of numbers = \" , avg )\n",
        "print(\"The larger number is \", max(n1,n2))"
      ]
    },
    {
      "cell_type": "markdown",
      "source": [
        "2. Write a script that reads three floating point numbers, and does the following:  \n",
        "i) It prints the smallest and largest among the three.\n",
        "ii) It prints the average of the three numbers up to 2 decimal places."
      ],
      "metadata": {
        "id": "W3H4fw7i7BAM"
      }
    },
    {
      "cell_type": "code",
      "source": [
        "n1 = 10.23\n",
        "n2 = 14.43\n",
        "n3 = 12.56\n",
        "\n",
        "if(n1<n2) and (n1<n3):\n",
        "    smallest=n1\n",
        "elif(n2<n1) and (n2<n3):\n",
        "    smallest=n2\n",
        "else:\n",
        "    smallest=n3\n",
        "print(\"The smallest number is \", smallest)\n",
        "    \n",
        "if(n1>n2) and (n1>n3):\n",
        "    largest=n1\n",
        "elif(n2>n1) and (n2>n3):\n",
        "    largest=n2\n",
        "else:\n",
        "    largest=n3\n",
        "print(\"The largest number is \", largest)\n",
        "\n",
        "avg=(n1+n2+n3)/3\n",
        "txt = \"Average = {:.2f}\"\n",
        "print(txt.format(avg))"
      ],
      "metadata": {
        "colab": {
          "base_uri": "https://localhost:8080/"
        },
        "id": "wTgi3gxK7AcH",
        "outputId": "aff04e35-b79a-429c-b1c9-0386a08a6ccf"
      },
      "execution_count": null,
      "outputs": [
        {
          "output_type": "stream",
          "name": "stdout",
          "text": [
            "The smallest number is  10.23\n",
            "The largest number is  14.43\n",
            "Average = 12.41\n"
          ]
        }
      ]
    },
    {
      "cell_type": "markdown",
      "source": [
        "3. Write a script that prompts the user to input a year and\n",
        "determine whether that year is a leap year or \n",
        "not."
      ],
      "metadata": {
        "id": "7quwmsj37qYc"
      }
    },
    {
      "cell_type": "code",
      "source": [
        "year = int(input(\"Enter the year:\"))\n",
        "if(year%400==0) or (year%4==0) and (year%100!=0):\n",
        "    print(year, \" is a leap year\")\n",
        "else:\n",
        "    print(year, \" is not a leap year\")"
      ],
      "metadata": {
        "colab": {
          "base_uri": "https://localhost:8080/"
        },
        "id": "rLSbPNe47uE3",
        "outputId": "7a7bc08d-8618-4074-c8e5-70b5950ce81c"
      },
      "execution_count": null,
      "outputs": [
        {
          "output_type": "stream",
          "name": "stdout",
          "text": [
            "Enter the year:2004\n",
            "2004  is a leap year\n"
          ]
        }
      ]
    },
    {
      "cell_type": "markdown",
      "source": [
        "4.Write scripts to print each of the following output pattern. The number of rows to be printed is to be accepted as user input."
      ],
      "metadata": {
        "id": "EbgMjDeW9GD1"
      }
    },
    {
      "cell_type": "code",
      "source": [
        "\"\"\"\n",
        "i) \n",
        "*\n",
        "* *\n",
        "* * *\n",
        "* * * *\n",
        "* * * * *\n",
        "* * * * * *\n",
        "* * * * * * *\n",
        "\"\"\"\n",
        "\n",
        "row = int(input(\"Enter the number of rows: \"))\n",
        "for i in range(row):\n",
        "    for j in range(row):\n",
        "        if i>=j:\n",
        "            print(\"*\", end=\" \")\n",
        "    print()"
      ],
      "metadata": {
        "colab": {
          "base_uri": "https://localhost:8080/"
        },
        "id": "iiEovnBvBfwH",
        "outputId": "bf7691c6-d336-429a-c2d9-baff025e7740"
      },
      "execution_count": null,
      "outputs": [
        {
          "output_type": "stream",
          "name": "stdout",
          "text": [
            "Enter the number of rows: 7\n",
            "* \n",
            "* * \n",
            "* * * \n",
            "* * * * \n",
            "* * * * * \n",
            "* * * * * * \n",
            "* * * * * * * \n"
          ]
        }
      ]
    },
    {
      "cell_type": "code",
      "source": [
        "\"\"\"\n",
        "ii)\n",
        "* * * * * * *\n",
        "  * * * * * *\n",
        "    * * * * *\n",
        "      * * * *\n",
        "        * * *\n",
        "          * *\n",
        "            *\n",
        "\"\"\"\n",
        "\n",
        "row = int(input(\"Enter the number of rows: \"))\n",
        "for i in range(row):\n",
        "    for j in range(row):\n",
        "        if i<=j:\n",
        "            print(\"*\", end=\" \")\n",
        "        else:\n",
        "            print(\" \", end=\" \")\n",
        "    print()"
      ],
      "metadata": {
        "colab": {
          "base_uri": "https://localhost:8080/"
        },
        "id": "zEmWT3cDBokU",
        "outputId": "a3b77054-85b1-4016-ac87-9aa9fbde9f85"
      },
      "execution_count": null,
      "outputs": [
        {
          "output_type": "stream",
          "name": "stdout",
          "text": [
            "Enter the number of rows: 7\n",
            "* * * * * * * \n",
            "  * * * * * * \n",
            "    * * * * * \n",
            "      * * * * \n",
            "        * * * \n",
            "          * * \n",
            "            * \n"
          ]
        }
      ]
    },
    {
      "cell_type": "code",
      "source": [
        "\"\"\"\n",
        "iii)\n",
        "* * * * * * *\n",
        "* * * * * *\n",
        "* * * * *\n",
        "* * * *\n",
        "* * * \n",
        "* *\n",
        "*\n",
        "\"\"\"\n",
        "\n",
        "row = int(input(\"Enter the number of rows: \"))\n",
        "for i in range(row):\n",
        "    for j in range(row):\n",
        "        if i<=j:\n",
        "            print(\"*\", end=\" \")\n",
        "    print()"
      ],
      "metadata": {
        "colab": {
          "base_uri": "https://localhost:8080/"
        },
        "id": "0NinC1JRB9Ss",
        "outputId": "0dcdde6d-29b8-4ac1-cbb3-3dee7f1042ee"
      },
      "execution_count": null,
      "outputs": [
        {
          "output_type": "stream",
          "name": "stdout",
          "text": [
            "Enter the number of rows: 7\n",
            "* * * * * * * \n",
            "* * * * * * \n",
            "* * * * * \n",
            "* * * * \n",
            "* * * \n",
            "* * \n",
            "* \n"
          ]
        }
      ]
    },
    {
      "cell_type": "code",
      "source": [
        "\"\"\"\n",
        "iv)\n",
        "            *\n",
        "          * *\n",
        "        * * *\n",
        "      * * * *\n",
        "    * * * * *\n",
        "  * * * * * *\n",
        "* * * * * * *\n",
        "\"\"\"\n",
        "\n",
        "row = int(input(\"Enter the number of rows: \"))\n",
        "for i in range(row):\n",
        "    for j in range(row):\n",
        "        if i+j>=row-1:\n",
        "            print(\"*\", end=\" \")\n",
        "        else:\n",
        "            print(\" \", end=\" \")\n",
        "    print()"
      ],
      "metadata": {
        "colab": {
          "base_uri": "https://localhost:8080/"
        },
        "id": "E0n_-0NHCb9U",
        "outputId": "c37dccc6-b881-48e5-d6cf-2fc566a2bfda"
      },
      "execution_count": null,
      "outputs": [
        {
          "output_type": "stream",
          "name": "stdout",
          "text": [
            "Enter the number of rows: 7\n",
            "            * \n",
            "          * * \n",
            "        * * * \n",
            "      * * * * \n",
            "    * * * * * \n",
            "  * * * * * * \n",
            "* * * * * * * \n"
          ]
        }
      ]
    },
    {
      "cell_type": "code",
      "source": [
        "\"\"\"\n",
        "v)\n",
        "*\n",
        "* *\n",
        "* * *\n",
        "* * * *\n",
        "* * *\n",
        "* *\n",
        "*\n",
        "\"\"\"\n",
        "\n",
        "row = int(input(\"Enter the number of rows: \"))\n",
        "for i in range(row):\n",
        "    for j in range(row):\n",
        "        if i>=j and i+j<=row-1:\n",
        "            print(\"*\", end=\" \")\n",
        "        else:\n",
        "            print(\" \", end=\" \")\n",
        "    print()"
      ],
      "metadata": {
        "colab": {
          "base_uri": "https://localhost:8080/"
        },
        "id": "1vI7hxbzC1d0",
        "outputId": "e395fe01-8f8a-4bd2-9a59-1623d1d7975c"
      },
      "execution_count": null,
      "outputs": [
        {
          "output_type": "stream",
          "name": "stdout",
          "text": [
            "Enter the number of rows: 7\n",
            "*             \n",
            "* *           \n",
            "* * *         \n",
            "* * * *       \n",
            "* * *         \n",
            "* *           \n",
            "*             \n"
          ]
        }
      ]
    },
    {
      "cell_type": "code",
      "source": [
        "\"\"\"\n",
        "vi)\n",
        "      *\n",
        "    * *\n",
        "  * * *\n",
        "* * * *\n",
        "  * * *\n",
        "    * *\n",
        "      *\n",
        "\"\"\"\n",
        "\n",
        "row = int(input(\"Enter the number of rows: \"))\n",
        "for i in range(row):\n",
        "    for j in range(row):\n",
        "        if i<=j and i+j>=row-1:\n",
        "            print(\"*\", end=\" \")\n",
        "        else:\n",
        "            print(\" \", end=\" \")\n",
        "    print()"
      ],
      "metadata": {
        "colab": {
          "base_uri": "https://localhost:8080/"
        },
        "id": "2-nsoh5aDS6r",
        "outputId": "7d5ea449-2693-416b-f7e3-882dd35bc0de"
      },
      "execution_count": null,
      "outputs": [
        {
          "output_type": "stream",
          "name": "stdout",
          "text": [
            "Enter the number of rows: 7\n",
            "            * \n",
            "          * * \n",
            "        * * * \n",
            "      * * * * \n",
            "        * * * \n",
            "          * * \n",
            "            * \n"
          ]
        }
      ]
    },
    {
      "cell_type": "code",
      "source": [
        "\"\"\"\n",
        "vii)\n",
        "* * * * * * *\n",
        "  * * * * *\n",
        "    * * *\n",
        "      *\n",
        "\"\"\"\n",
        "\n",
        "row = int(input(\"Enter the number of rows: \"))\n",
        "for i in range(row):\n",
        "    for j in range(row):\n",
        "        if (i<=j and i+j<=row-1):\n",
        "            print(\"*\", end=' ')\n",
        "        else:\n",
        "            print(\" \",end=' ')\n",
        "    print()"
      ],
      "metadata": {
        "colab": {
          "base_uri": "https://localhost:8080/"
        },
        "id": "uQOBFnr1DxCU",
        "outputId": "faadbe17-7ea6-41c2-d61d-b8330b81d65d"
      },
      "execution_count": null,
      "outputs": [
        {
          "output_type": "stream",
          "name": "stdout",
          "text": [
            "Enter the number of rows: 7\n",
            "* * * * * * * \n",
            "  * * * * *   \n",
            "    * * *     \n",
            "      *       \n",
            "              \n",
            "              \n",
            "              \n"
          ]
        }
      ]
    },
    {
      "cell_type": "code",
      "source": [
        "'''\n",
        "viii)\n",
        "      *\n",
        "    * * *\n",
        "  * * * * *\n",
        "* * * * * * *\n",
        "'''\n",
        "row = int(input(\"Enter the number of rows: \"))\n",
        "for i in range(row):\n",
        "    for j in range(row):\n",
        "        if i>=j and (i+j)>=row-1:\n",
        "            print(\"*\", end=\" \")\n",
        "        else:\n",
        "            print(\" \", end=\" \")\n",
        "    print()"
      ],
      "metadata": {
        "colab": {
          "base_uri": "https://localhost:8080/"
        },
        "id": "Ko0DmjAhEIQ8",
        "outputId": "b8196b74-00ee-4fb0-97fd-77451bf1bd93"
      },
      "execution_count": null,
      "outputs": [
        {
          "output_type": "stream",
          "name": "stdout",
          "text": [
            "Enter the number of rows: 7\n",
            "              \n",
            "              \n",
            "              \n",
            "      *       \n",
            "    * * *     \n",
            "  * * * * *   \n",
            "* * * * * * * \n"
          ]
        }
      ]
    },
    {
      "cell_type": "code",
      "source": [
        "'''\n",
        "ix)\n",
        "*           *\n",
        "* *       * *\n",
        "* * *   * * *\n",
        "* * * * * * *\n",
        "* * *   * * *\n",
        "*  *      * *\n",
        "*           *\n",
        "'''\n",
        "row = int(input(\"Enter the number of rows: \"))\n",
        "\n",
        "for i in range(row):\n",
        "    for j in range(row):\n",
        "        if (i<=j and i+j>=row-1) or (i+j<=row-1 and i>=j):\n",
        "            print(\"*\", end=\" \")\n",
        "        else:\n",
        "            print(\" \", end=\" \")\n",
        "    print()"
      ],
      "metadata": {
        "colab": {
          "base_uri": "https://localhost:8080/"
        },
        "id": "dpA_Qut4EiLL",
        "outputId": "0b555908-a7b2-4bdf-b1b9-f532ab33190d"
      },
      "execution_count": null,
      "outputs": [
        {
          "output_type": "stream",
          "name": "stdout",
          "text": [
            "Enter the number of rows: 7\n",
            "*           * \n",
            "* *       * * \n",
            "* * *   * * * \n",
            "* * * * * * * \n",
            "* * *   * * * \n",
            "* *       * * \n",
            "*           * \n"
          ]
        }
      ]
    },
    {
      "cell_type": "code",
      "source": [
        "'''\n",
        "x)\n",
        "* * * * * * *\n",
        "  * * * * *\n",
        "    * * *\n",
        "      *\n",
        "    * * *\n",
        "  * * * * *\n",
        "* * * * * * *\n",
        "'''\n",
        "\n",
        "row = int(input(\"Enter the number of rows: \"))\n",
        "\n",
        "for i in range(row):\n",
        "    for j in range(row):\n",
        "        if (i<=j and i+j<=row-1) or (i>=j and (i+j)>=row-1):\n",
        "            print(\"*\", end=\" \")\n",
        "        else:\n",
        "            print(\" \", end=\" \")\n",
        "    print()"
      ],
      "metadata": {
        "colab": {
          "base_uri": "https://localhost:8080/"
        },
        "id": "auOLVI_VFAIL",
        "outputId": "10c34583-c3d1-4b2f-cef6-09aec74190e3"
      },
      "execution_count": null,
      "outputs": [
        {
          "output_type": "stream",
          "name": "stdout",
          "text": [
            "Enter the number of rows: 7\n",
            "* * * * * * * \n",
            "  * * * * *   \n",
            "    * * *     \n",
            "      *       \n",
            "    * * *     \n",
            "  * * * * *   \n",
            "* * * * * * * \n"
          ]
        }
      ]
    },
    {
      "cell_type": "code",
      "source": [
        "'''\n",
        "xi)\n",
        "      *\n",
        "    * * *\n",
        "  * * * * *\n",
        "* * * * * * *\n",
        "  * * * * *\n",
        "    * * * \n",
        "      *\n",
        "'''\n",
        "\n",
        "row = int(input(\"Enter the number of rows: \"))\n",
        "n=row//2\n",
        "for i in range(2*n+1):\n",
        "    for j in range(2*n+1):\n",
        "        if (((i+j)>=n) and ((j-i)<=n) and ((i-j)<=n) and ((i+j)<=3*n)):\n",
        "            print(\"*\", end=\" \")\n",
        "        else:\n",
        "            print(\" \", end=\" \")\n",
        "    print()"
      ],
      "metadata": {
        "colab": {
          "base_uri": "https://localhost:8080/"
        },
        "id": "fQguxV79FPrT",
        "outputId": "4a91d827-ace3-4e77-8e3f-3ab09b86b8c3"
      },
      "execution_count": null,
      "outputs": [
        {
          "output_type": "stream",
          "name": "stdout",
          "text": [
            "Enter the number of rows: 7\n",
            "      *       \n",
            "    * * *     \n",
            "  * * * * *   \n",
            "* * * * * * * \n",
            "  * * * * *   \n",
            "    * * *     \n",
            "      *       \n"
          ]
        }
      ]
    },
    {
      "cell_type": "code",
      "source": [
        "'''\n",
        "xii)\n",
        "* * * * * * *\n",
        "* * *   * * *\n",
        "* *       * *\n",
        "*           *\n",
        "* *       * *\n",
        "* * *   * * *\n",
        "* * * * * * *\n",
        "'''\n",
        "\n",
        "row = int(input(\"Enter the number of rows: \"))\n",
        "n=row//2\n",
        "for i in range(2*n+1):\n",
        "    for j in range(2*n+1):\n",
        "        if (((i+j)<=n) or ((j-i)>=n) or ((i-j)>=n) or ((i+j)>=3*n)):\n",
        "            print(\"*\", end=\" \")\n",
        "        else:\n",
        "            print(\" \", end=\" \")\n",
        "    print()"
      ],
      "metadata": {
        "colab": {
          "base_uri": "https://localhost:8080/"
        },
        "id": "KpOJhRsBFdzq",
        "outputId": "5eb1117f-b9e1-4434-fbeb-944714f127e2"
      },
      "execution_count": null,
      "outputs": [
        {
          "output_type": "stream",
          "name": "stdout",
          "text": [
            "Enter the number of rows: 7\n",
            "* * * * * * * \n",
            "* * *   * * * \n",
            "* *       * * \n",
            "*           * \n",
            "* *       * * \n",
            "* * *   * * * \n",
            "* * * * * * * \n"
          ]
        }
      ]
    },
    {
      "cell_type": "code",
      "source": [
        "'''\n",
        "xiii)\n",
        "       *\n",
        "     * *\n",
        "   * * *\n",
        " * * * * * * *\n",
        "       * * *\n",
        "       * *\n",
        "       *\n",
        "'''\n",
        "\n",
        "row = int(input(\"Enter the number of rows: \"))\n",
        "n=(row-1)//2\n",
        "for i in range(row):\n",
        "    for j in range(row):\n",
        "        if (i+j>=n and i<=n and j<=n) or (i>=n and j>=n and i+j<=3*n) :\n",
        "            print(\"*\",end=' ')\n",
        "        else:\n",
        "            print(\" \",end=' ')\n",
        "    print()"
      ],
      "metadata": {
        "colab": {
          "base_uri": "https://localhost:8080/"
        },
        "id": "cknemJDzF0_C",
        "outputId": "5e2bb126-3a2c-4489-8573-1c9e6b2e70d1"
      },
      "execution_count": null,
      "outputs": [
        {
          "output_type": "stream",
          "name": "stdout",
          "text": [
            "Enter the number of rows: 7\n",
            "      *       \n",
            "    * *       \n",
            "  * * *       \n",
            "* * * * * * * \n",
            "      * * *   \n",
            "      * *     \n",
            "      *       \n"
          ]
        }
      ]
    },
    {
      "cell_type": "code",
      "source": [
        "'''\n",
        "xiv)\n",
        "      *\n",
        "      * *\n",
        "      * * *\n",
        "* * * * * * *\n",
        "  * * *\n",
        "    * *\n",
        "      *\n",
        "'''\n",
        "\n",
        "row = int(input(\"Enter the number of rows: \"))\n",
        "n=(row-1)//2\n",
        "for i in range(row):\n",
        "    for j in range(row):\n",
        "        if (i<=n and j>=n and i-j>=-n) or (i>=n and j<=n and i-j<=n): \n",
        "            print(\"*\",end=' ')\n",
        "        else:\n",
        "            print(\" \",end=' ')\n",
        "    print()"
      ],
      "metadata": {
        "colab": {
          "base_uri": "https://localhost:8080/"
        },
        "id": "l7Nv7y-2GIc5",
        "outputId": "fde97a06-7f27-4d76-8b0c-1bb82f494240"
      },
      "execution_count": null,
      "outputs": [
        {
          "output_type": "stream",
          "name": "stdout",
          "text": [
            "Enter the number of rows: 7\n",
            "      *       \n",
            "      * *     \n",
            "      * * *   \n",
            "* * * * * * * \n",
            "  * * *       \n",
            "    * *       \n",
            "      *       \n"
          ]
        }
      ]
    },
    {
      "cell_type": "code",
      "source": [
        "'''\n",
        "xv)\n",
        "* * * * *       *\n",
        "  * * * *     * *\n",
        "    * * *   * * *\n",
        "      * * * * * *\n",
        "* * * * * * \n",
        "* * * * * *\n",
        "* * *   * * *\n",
        "* *     * * * *\n",
        "*       * * * * *\n",
        "'''\n",
        "\n",
        "row = int(input(\"Enter the number of rows: \"))\n",
        "n=(row-1)//2\n",
        "for i in range(row):\n",
        "    for j in range(row):\n",
        "        if (i<=j and i<=n and j<=n) or (i+j>=2*n and i<=n and j>=n) or(i+j<=2*n and i>=n and j<=n) or (i>=j and i>=n and j>=n): #or (i>=n and j<=n and i-j<=n): \n",
        "            print(\"*\",end=' ')\n",
        "        else:\n",
        "            print(\" \",end=' ')\n",
        "    print()"
      ],
      "metadata": {
        "colab": {
          "base_uri": "https://localhost:8080/"
        },
        "id": "X6454IuCGsLZ",
        "outputId": "9566c249-9817-496a-f5a9-0d5185fb7fdf"
      },
      "execution_count": null,
      "outputs": [
        {
          "output_type": "stream",
          "name": "stdout",
          "text": [
            "Enter the number of rows: 7\n",
            "* * * *     * \n",
            "  * * *   * * \n",
            "    * * * * * \n",
            "* * * * * * * \n",
            "* * * * *     \n",
            "* *   * * *   \n",
            "*     * * * * \n"
          ]
        }
      ]
    }
  ]
}