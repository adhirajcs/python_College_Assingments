{
  "nbformat": 4,
  "nbformat_minor": 0,
  "metadata": {
    "colab": {
      "provenance": []
    },
    "kernelspec": {
      "name": "python3",
      "display_name": "Python 3"
    },
    "language_info": {
      "name": "python"
    }
  },
  "cells": [
    {
      "cell_type": "markdown",
      "source": [
        "## Day 8\n",
        "## 013_Adhiraj"
      ],
      "metadata": {
        "id": "zA3N1K1o8Pei"
      }
    },
    {
      "cell_type": "code",
      "source": [
        "import numpy as np"
      ],
      "metadata": {
        "id": "cjffE1Zl_jn4"
      },
      "execution_count": 2,
      "outputs": []
    },
    {
      "cell_type": "markdown",
      "source": [
        "1. Create a 4 x 4 NumPy array with random values and find the minimum and maximum values."
      ],
      "metadata": {
        "id": "Mj_wQkuY8RnC"
      }
    },
    {
      "cell_type": "code",
      "source": [
        "arr = np.random.randint(0,20,size=(4,4))\n",
        "print(f\"The 4x4 Numpy array generated is: \")\n",
        "print(arr)\n",
        "print(f\"The maximum value of the array is:{arr.max()}\")\n",
        "print(f\"The minimum value of the array is:{arr.min()}\")"
      ],
      "metadata": {
        "colab": {
          "base_uri": "https://localhost:8080/"
        },
        "id": "jVSlCt3j_MNh",
        "outputId": "10c3e9d0-bf02-41c1-f916-b5a2cbf9b9cf"
      },
      "execution_count": 7,
      "outputs": [
        {
          "output_type": "stream",
          "name": "stdout",
          "text": [
            "The 4x4 Numpy array generated is: \n",
            "[[18  1  7 10]\n",
            " [ 8 19  9 14]\n",
            " [ 4 19 13 10]\n",
            " [14  6  5  0]]\n",
            "The maximum value of the array is:19\n",
            "The minimum value of the array is:0\n"
          ]
        }
      ]
    },
    {
      "cell_type": "markdown",
      "source": [
        "2. Create a random vector of size 10 and sort it."
      ],
      "metadata": {
        "id": "GxfwcXVb94Fg"
      }
    },
    {
      "cell_type": "code",
      "source": [
        "vect = np.random.randint(0,15,size=(1,10))\n",
        "print(\"The original vector is: \",vect)\n",
        "\n",
        "vect.sort()\n",
        "print(\"The sorted vector is: \",vect)"
      ],
      "metadata": {
        "colab": {
          "base_uri": "https://localhost:8080/"
        },
        "id": "6AyTFFL4_Mzi",
        "outputId": "509473ea-7836-4468-cb4a-de6d28d96edd"
      },
      "execution_count": 9,
      "outputs": [
        {
          "output_type": "stream",
          "name": "stdout",
          "text": [
            "The original vector is:  [[ 1 12  2 12  1 11 14  3  1  0]]\n",
            "The sorted vector is:  [[ 0  1  1  1  2  3 11 12 12 14]]\n"
          ]
        }
      ]
    },
    {
      "cell_type": "markdown",
      "source": [
        "3. Create a 3x3 matrix with values ranging from 0 to 6."
      ],
      "metadata": {
        "id": "hHEd_5oX97Aw"
      }
    },
    {
      "cell_type": "code",
      "source": [
        "matrix = np.random.randint(0,6,size=(3,3))\n",
        "print(\"The 3x3 matrix is:-\\n\", matrix)"
      ],
      "metadata": {
        "colab": {
          "base_uri": "https://localhost:8080/"
        },
        "id": "Hp13qTob_NTI",
        "outputId": "ad73b2cf-c40a-4131-e5a0-0663b10e4bb2"
      },
      "execution_count": 11,
      "outputs": [
        {
          "output_type": "stream",
          "name": "stdout",
          "text": [
            "The 3x3 matrix is:-\n",
            " [[3 4 4]\n",
            " [4 1 2]\n",
            " [1 3 4]]\n"
          ]
        }
      ]
    },
    {
      "cell_type": "markdown",
      "source": [
        "4. Create a 2d array with 1 on the border and 0 inside."
      ],
      "metadata": {
        "id": "YiM3KRqv9_Ha"
      }
    },
    {
      "cell_type": "code",
      "source": [
        "arr = np.ones((4,4))\n",
        "arr[1:-1,1:-1] = 0\n",
        "print(arr)"
      ],
      "metadata": {
        "colab": {
          "base_uri": "https://localhost:8080/"
        },
        "id": "R-yKBbnc_P8H",
        "outputId": "2a8d1b63-75df-4ad2-dff7-cc218eaa10e9"
      },
      "execution_count": 12,
      "outputs": [
        {
          "output_type": "stream",
          "name": "stdout",
          "text": [
            "[[1. 1. 1. 1.]\n",
            " [1. 0. 0. 1.]\n",
            " [1. 0. 0. 1.]\n",
            " [1. 1. 1. 1.]]\n"
          ]
        }
      ]
    },
    {
      "cell_type": "markdown",
      "source": [
        "5. Find the most frequent value in a NumPy array."
      ],
      "metadata": {
        "id": "VP8Gh0k8-Cn4"
      }
    },
    {
      "cell_type": "code",
      "source": [
        "arr = np.random.randint(1, 10, 20)\n",
        "print(\"Random Array: \",arr)\n",
        "\n",
        "mostFrequentValue = np.bincount(arr)[-1]\n",
        "print(\"Most frequent value: \", mostFrequentValue)"
      ],
      "metadata": {
        "colab": {
          "base_uri": "https://localhost:8080/"
        },
        "id": "yEyYdtU2_QdP",
        "outputId": "e8d9c3b5-377b-423c-f9e1-40a8cd6e81e1"
      },
      "execution_count": 14,
      "outputs": [
        {
          "output_type": "stream",
          "name": "stdout",
          "text": [
            "Random Array:  [8 8 8 7 9 1 2 7 1 1 2 7 7 6 9 4 1 6 4 9]\n",
            "Most frequent value:  3\n"
          ]
        }
      ]
    },
    {
      "cell_type": "markdown",
      "source": [
        "6. Interchange two axes of a NumPy array."
      ],
      "metadata": {
        "id": "FZnUH5Kh-Hzx"
      }
    },
    {
      "cell_type": "code",
      "source": [
        "import random\n",
        "\n",
        "arr = np.random.randint(0,15,size=(random.randint(1,8),random.randint(1,8)))\n",
        "print(f\"Before Interchanging the axes: \\n{arr}\")\n",
        "\n",
        "new_arr = np.transpose(arr,(1,0))\n",
        "print(f\"After Interchanging the axes: \\n{arr}\")\n"
      ],
      "metadata": {
        "colab": {
          "base_uri": "https://localhost:8080/"
        },
        "id": "8wmV45cS_Rr4",
        "outputId": "1b14a5bd-a6ff-4be7-8271-10a7f45926df"
      },
      "execution_count": 17,
      "outputs": [
        {
          "output_type": "stream",
          "name": "stdout",
          "text": [
            "Before Interchanging the axes: \n",
            "[[ 0 11  2 11  6]\n",
            " [13  4  4 14  0]\n",
            " [ 7  3 13 10  5]\n",
            " [ 3  5  0 11 13]\n",
            " [11 12 11 10 10]\n",
            " [ 0 10  9 12  5]]\n",
            "After Interchanging the axes: \n",
            "[[ 0 11  2 11  6]\n",
            " [13  4  4 14  0]\n",
            " [ 7  3 13 10  5]\n",
            " [ 3  5  0 11 13]\n",
            " [11 12 11 10 10]\n",
            " [ 0 10  9 12  5]]\n"
          ]
        }
      ]
    },
    {
      "cell_type": "markdown",
      "source": [
        "7. Count the number of elements along a given axis using NumPy."
      ],
      "metadata": {
        "id": "4MGCx_qP-OQp"
      }
    },
    {
      "cell_type": "code",
      "source": [
        "import random\n",
        "\n",
        "arr = np.random.randint(0,15,size=(random.randint(1,8),random.randint(1,8)))\n",
        "print(\"Random array: \\n\",arr)\n",
        "\n",
        "axis = int(input(\"Enter a axis(0 or 1): \"))\n",
        "\n",
        "ele = arr.shape[axis]\n",
        "print(f\"The number of elements in the axis {axis} is:  {ele}\")"
      ],
      "metadata": {
        "colab": {
          "base_uri": "https://localhost:8080/"
        },
        "id": "JJrU3PmB_SNX",
        "outputId": "603d8b8b-d059-42b3-ab3a-065023304ff5"
      },
      "execution_count": 20,
      "outputs": [
        {
          "output_type": "stream",
          "name": "stdout",
          "text": [
            "Random array: \n",
            " [[ 3 13]\n",
            " [ 4 11]\n",
            " [ 7  8]\n",
            " [ 0  8]\n",
            " [ 1 12]\n",
            " [ 5  5]]\n",
            "Enter a axis(0 or 1): 0\n",
            "The number of elements in the axis 0 is:  6\n"
          ]
        }
      ]
    },
    {
      "cell_type": "markdown",
      "source": [
        "8. Reverse a NumPy array."
      ],
      "metadata": {
        "id": "Sx_UebUJ-PeB"
      }
    },
    {
      "cell_type": "code",
      "source": [
        "import random\n",
        "\n",
        "arr = np.random.randint(0,15,size=(random.randint(1,8),random.randint(1,8)))\n",
        "print(arr)\n",
        "\n",
        "hrev = np.fliplr(arr)\n",
        "print(f\"Horizontally Reversed Array: \\n{hrev}\")\n",
        "\n",
        "vrev = np.flipud(arr)\n",
        "print(f\"Vertically Reversed Array: \\n{vrev}\")"
      ],
      "metadata": {
        "colab": {
          "base_uri": "https://localhost:8080/"
        },
        "id": "gsPhk4WE_SkH",
        "outputId": "f52155ee-cdbf-4be7-bcbc-205405050b88"
      },
      "execution_count": 21,
      "outputs": [
        {
          "output_type": "stream",
          "name": "stdout",
          "text": [
            "[[10  8  1  7 11]\n",
            " [ 4  0  7  5  9]\n",
            " [12  3  9  3  9]\n",
            " [11 13  5 14  7]\n",
            " [10  0 13 10 10]\n",
            " [ 8  3  8 13  9]]\n",
            "Horizontally Reversed Array: \n",
            "[[11  7  1  8 10]\n",
            " [ 9  5  7  0  4]\n",
            " [ 9  3  9  3 12]\n",
            " [ 7 14  5 13 11]\n",
            " [10 10 13  0 10]\n",
            " [ 9 13  8  3  8]]\n",
            "Vertically Reversed Array: \n",
            "[[ 8  3  8 13  9]\n",
            " [10  0 13 10 10]\n",
            " [11 13  5 14  7]\n",
            " [12  3  9  3  9]\n",
            " [ 4  0  7  5  9]\n",
            " [10  8  1  7 11]]\n"
          ]
        }
      ]
    },
    {
      "cell_type": "markdown",
      "source": [
        "9. Replace negative values with zeroes in a NumPy array."
      ],
      "metadata": {
        "id": "VSgsC1j6-Rlp"
      }
    },
    {
      "cell_type": "code",
      "source": [
        "arr = np.array([[-4,3,-5,-2],[3,5,-1,8],[-4,-5,-2,6],[3,5,-1,6]])\n",
        "print(\"Before Replacement: \\n\",arr)\n",
        "\n",
        "for i in range(len(arr)):\n",
        "  for j in range(len(arr)):\n",
        "    if arr[i][j] == -1:\n",
        "      arr[i][j] = 0\n",
        "\n",
        "print(f\"After Replacement: \\n{arr}\")"
      ],
      "metadata": {
        "colab": {
          "base_uri": "https://localhost:8080/"
        },
        "id": "APgzZQpQ_S93",
        "outputId": "d5af7037-2939-4a1d-856d-113955b6de92"
      },
      "execution_count": 22,
      "outputs": [
        {
          "output_type": "stream",
          "name": "stdout",
          "text": [
            "Before Replacement: \n",
            " [[-4  3 -5 -2]\n",
            " [ 3  5 -1  8]\n",
            " [-4 -5 -2  6]\n",
            " [ 3  5 -1  6]]\n",
            "After Replacement: \n",
            "[[-4  3 -5 -2]\n",
            " [ 3  5  0  8]\n",
            " [-4 -5 -2  6]\n",
            " [ 3  5  0  6]]\n"
          ]
        }
      ]
    },
    {
      "cell_type": "markdown",
      "source": [
        "10. Extract all odd numbers from a numPy array."
      ],
      "metadata": {
        "id": "aGQ_JVWF-SwJ"
      }
    },
    {
      "cell_type": "code",
      "source": [
        "import random\n",
        "\n",
        "arr = np.arange(1,26).reshape(5,5)\n",
        "print(\"Original Array: \\n\",arr)\n",
        "\n",
        "l = np.extract(arr%2!=0, arr)\n",
        "\n",
        "print(\"All the off numbers in the original array: \",l)"
      ],
      "metadata": {
        "colab": {
          "base_uri": "https://localhost:8080/"
        },
        "id": "zz1RtXTy_TgI",
        "outputId": "8d051a72-d027-453f-bd62-f335200adffd"
      },
      "execution_count": 31,
      "outputs": [
        {
          "output_type": "stream",
          "name": "stdout",
          "text": [
            "Original Array: \n",
            " [[ 1  2  3  4  5]\n",
            " [ 6  7  8  9 10]\n",
            " [11 12 13 14 15]\n",
            " [16 17 18 19 20]\n",
            " [21 22 23 24 25]]\n",
            "All the off numbers in the original array:  [ 1  3  5  7  9 11 13 15 17 19 21 23 25]\n"
          ]
        }
      ]
    },
    {
      "cell_type": "markdown",
      "source": [
        "11. Replace all odd numbers in numPy array with -1."
      ],
      "metadata": {
        "id": "entntH98-VwZ"
      }
    },
    {
      "cell_type": "code",
      "source": [
        "import random\n",
        "\n",
        "arr = np.arange(1,26).reshape(5,5)\n",
        "print(\"Original Array: \\n\",arr)\n",
        "newArr = np.where(arr%2!=0,-1, arr)\n",
        "\n",
        "print(\"After replacement, New Array: \\n\",newArr)"
      ],
      "metadata": {
        "colab": {
          "base_uri": "https://localhost:8080/"
        },
        "id": "nGK1aY8z_T7P",
        "outputId": "d3f241e9-dd75-4447-8ad8-1593a9d5024d"
      },
      "execution_count": 33,
      "outputs": [
        {
          "output_type": "stream",
          "name": "stdout",
          "text": [
            "Original Array: \n",
            " [[ 1  2  3  4  5]\n",
            " [ 6  7  8  9 10]\n",
            " [11 12 13 14 15]\n",
            " [16 17 18 19 20]\n",
            " [21 22 23 24 25]]\n",
            "After replacement, New Array: \n",
            " [[-1  2 -1  4 -1]\n",
            " [ 6 -1  8 -1 10]\n",
            " [-1 12 -1 14 -1]\n",
            " [16 -1 18 -1 20]\n",
            " [-1 22 -1 24 -1]]\n"
          ]
        }
      ]
    },
    {
      "cell_type": "markdown",
      "source": [
        "12. Create a four dimensions array with random values and get the sum over the last two axes."
      ],
      "metadata": {
        "id": "Zlt8zmCo-XOJ"
      }
    },
    {
      "cell_type": "code",
      "source": [
        "arr = np.random.randint(0,15,size=(4,4))\n",
        "print(f\"Original Array: \\n{arr}\")\n",
        "\n",
        "sum = np.sum(arr,axis=(-2,-1))\n",
        "print(f\"The sum of the last two axes of the array is: {sum}\")"
      ],
      "metadata": {
        "colab": {
          "base_uri": "https://localhost:8080/"
        },
        "id": "e4Ih97Bk_UbY",
        "outputId": "e5a027a0-469c-4732-d114-8efee3533a1d"
      },
      "execution_count": 34,
      "outputs": [
        {
          "output_type": "stream",
          "name": "stdout",
          "text": [
            "Original Array: \n",
            "[[ 4  6  1 11]\n",
            " [ 2  4  7  5]\n",
            " [ 2 12  0  4]\n",
            " [ 0  8 10  9]]\n",
            "The sum of the last two axes of the array is: 85\n"
          ]
        }
      ]
    },
    {
      "cell_type": "code",
      "source": [
        "import matplotlib.pyplot as plt"
      ],
      "metadata": {
        "id": "xhcgKofMDl0W"
      },
      "execution_count": 35,
      "outputs": []
    },
    {
      "cell_type": "markdown",
      "source": [
        "13. Use NumPy to randomly generate an array with 250 values, where the mean is 120, and the standard\n",
        "deviation is 12. Use Matplotlib to create a histogram on that generated data."
      ],
      "metadata": {
        "id": "kIxXrE9F-ZNZ"
      }
    },
    {
      "cell_type": "code",
      "source": [
        "import random\n",
        "\n",
        "arr = np.random.normal(120, 12, 250)\n",
        "plt.hist(arr,bins=25,color='yellow',edgecolor='green',alpha=0.6)\n",
        "plt.xlabel(\"Vals\")\n",
        "plt.ylabel(\"Freq.\")\n",
        "plt.title(\"Histogram:\")\n",
        "\n",
        "plt.show()"
      ],
      "metadata": {
        "colab": {
          "base_uri": "https://localhost:8080/",
          "height": 295
        },
        "id": "Dr4yYauk_U9n",
        "outputId": "e8afc608-3d45-403f-962b-5ac674fe1972"
      },
      "execution_count": 44,
      "outputs": [
        {
          "output_type": "display_data",
          "data": {
            "text/plain": [
              "<Figure size 432x288 with 1 Axes>"
            ],
            "image/png": "[encoded data removed]"
          },
          "metadata": {
            "needs_background": "light"
          }
        }
      ]
    },
    {
      "cell_type": "markdown",
      "source": [
        "14. Consider the following data:\n",
        "Programming languages: Java, Python, PHP, JavaScript, C#, C++\n",
        "Popularity: 22.2, 17.6, 8.8, 8, 7.7, 6.7\n",
        "\n",
        "(i) display a bar chart of the popularity of programming Languages.\n",
        "\n",
        "(ii) display a horizontal bar chart of the popularity of programming Languages."
      ],
      "metadata": {
        "id": "U_pgEWtG-eSA"
      }
    },
    {
      "cell_type": "code",
      "source": [
        "programming_languages = ['Java', 'Python', 'PHP', 'JavaScript', 'C#', 'C++']\n",
        "popularity = [22.2, 17.6, 8.8, 8, 7.7, 6.7]\n",
        "\n",
        "# i\n",
        "plt.bar(programming_languages, popularity)\n",
        "plt.xlabel('Programming Languages')\n",
        "plt.ylabel('Popularity')\n",
        "plt.title('Popularity of Programming Languages')\n",
        "plt.show()\n",
        "\n",
        "print()\n",
        "\n",
        "# ii\n",
        "plt.barh(programming_languages, popularity)\n",
        "plt.xlabel('Popularity')\n",
        "plt.ylabel('Programming Languages')\n",
        "plt.title('Popularity of Programming Languages')\n",
        "\n",
        "plt.show()"
      ],
      "metadata": {
        "colab": {
          "base_uri": "https://localhost:8080/",
          "height": 590
        },
        "id": "auOuo2OK_WlP",
        "outputId": "fe1f046b-0a4c-40a2-d8c8-1e2cfce6ee17"
      },
      "execution_count": 45,
      "outputs": [
        {
          "output_type": "display_data",
          "data": {
            "text/plain": [
              "<Figure size 432x288 with 1 Axes>"
            ],
            "image/png": "[encoded data removed]"
          },
          "metadata": {
            "needs_background": "light"
          }
        },
        {
          "output_type": "stream",
          "name": "stdout",
          "text": [
            "\n"
          ]
        },
        {
          "output_type": "display_data",
          "data": {
            "text/plain": [
              "<Figure size 432x288 with 1 Axes>"
            ],
            "image/png": "[encoded data removed]"
          },
          "metadata": {
            "needs_background": "light"
          }
        }
      ]
    },
    {
      "cell_type": "markdown",
      "source": [
        "15. Consider the following data:\n",
        "Programming languages: Java, Python, PHP, JavaScript, C#, C++\n",
        "Popularity: 22.2, 17.6, 8.8, 8, 7.7, 6.7\n",
        "\n",
        "(i) create a pie chart of the popularity of programming Languages.\n",
        "\n",
        "(ii) add a title.\n",
        "\n",
        "(iii) make multiple wedges of the pie."
      ],
      "metadata": {
        "id": "4U5ESl9x-fYo"
      }
    },
    {
      "cell_type": "code",
      "source": [
        "pgrmg_lang = [\"Java\", \"Python\", \"PHP\", \"JavaScript\", \"C#\", \"C++\"]\n",
        "popularity = [22.2, 17.6, 8.8, 8, 7.7, 6.7]\n",
        "\n",
        "plt.pie(popularity,labels=pgrmg_lang,autopct='%1.1f%%',explode=[0.1, 0.1, 0.1, 0.1, 0.1, 0.1])\n",
        "\n",
        "plt.title('Popularity of the Programming Languages as follows:')\n",
        "\n",
        "plt.show()"
      ],
      "metadata": {
        "colab": {
          "base_uri": "https://localhost:8080/",
          "height": 265
        },
        "id": "GMaY0Toz_XUo",
        "outputId": "c7a56a20-23b5-455f-95b1-cdf178721f4d"
      },
      "execution_count": 52,
      "outputs": [
        {
          "output_type": "display_data",
          "data": {
            "text/plain": [
              "<Figure size 432x288 with 1 Axes>"
            ],
            "image/png": "[encoded data removed]"
          },
          "metadata": {}
        }
      ]
    },
    {
      "cell_type": "markdown",
      "source": [
        "16. Create a scatter plot for the following data\n",
        "math_marks = [88, 92, 80, 89, 100, 80, 60, 100, 80, 34]\n",
        "science_marks = [35, 79, 79, 48, 100, 88, 32, 45, 20, 30]"
      ],
      "metadata": {
        "id": "NJMTs_p3-hbZ"
      }
    },
    {
      "cell_type": "code",
      "source": [
        "mathMarks = [88, 92, 80, 89, 100, 80, 60, 100, 80, 34]\n",
        "scienceMarks = [35, 79, 79, 48, 100, 88, 32, 45, 20, 30]\n",
        "\n",
        "plt.scatter(mathMarks,scienceMarks)\n",
        "\n",
        "plt.xlabel(\"Maths Marks\")\n",
        "plt.ylabel(\"Science Marks\")\n",
        "plt.title(\"Scatter Plot of Maths Vs. Science Marks\")\n",
        "\n",
        "plt.show()"
      ],
      "metadata": {
        "colab": {
          "base_uri": "https://localhost:8080/",
          "height": 295
        },
        "id": "LZnQ8ld9_X3I",
        "outputId": "23ac324d-fe34-4e11-b2b9-a2cdcace9bc9"
      },
      "execution_count": 54,
      "outputs": [
        {
          "output_type": "display_data",
          "data": {
            "text/plain": [
              "<Figure size 432x288 with 1 Axes>"
            ],
            "image/png": "[encoded data removed]"
          },
          "metadata": {
            "needs_background": "light"
          }
        }
      ]
    }
  ]
}