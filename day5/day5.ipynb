{
  "nbformat": 4,
  "nbformat_minor": 0,
  "metadata": {
    "colab": {
      "provenance": []
    },
    "kernelspec": {
      "name": "python3",
      "display_name": "Python 3"
    },
    "language_info": {
      "name": "python"
    }
  },
  "cells": [
    {
      "cell_type": "markdown",
      "source": [
        "# Day 5\n",
        "# 013_Adhiraj"
      ],
      "metadata": {
        "id": "wN2E6IHzi_db"
      }
    },
    {
      "cell_type": "markdown",
      "source": [
        "1. Write a script that reads lines from a file, adds line numbers to them, and then stores the\n",
        "numbered lines into a new file. The name of the input file and also the new file will be read\n",
        "from the user. Each line in the output file should begin with the line number, followed by a\n",
        "colon and a space, followed by the line from the input file."
      ],
      "metadata": {
        "id": "qc-38DvenXem"
      }
    },
    {
      "cell_type": "code",
      "execution_count": 1,
      "metadata": {
        "colab": {
          "base_uri": "https://localhost:8080/"
        },
        "id": "VyRM6KiwmoaR",
        "outputId": "b839d54d-e928-4125-f362-08e89d04c733"
      },
      "outputs": [
        {
          "output_type": "stream",
          "name": "stdout",
          "text": [
            "Enter the input file name: A\n",
            "Enter the output file name: B\n",
            "1 : Pranati\n",
            "2 : Adhiraj\n",
            "3 : Soumik\n",
            "\n"
          ]
        }
      ],
      "source": [
        "file1 = input(\"Enter the input file name: \")\n",
        "f1 = open(file1 + \".txt\", 'x')\n",
        "list1 = [\"Pranati\\n\", \"Adhiraj\\n\", \"Soumik\\n\"]\n",
        "f1 = open(file1 + \".txt\", 'w')\n",
        "f1.writelines(list1)\n",
        "\n",
        "f1 = open(file1+\".txt\")\n",
        "f1.readlines()\n",
        "f1.close()\n",
        "\n",
        "file2 = input(\"Enter the output file name: \")\n",
        "f2 = open(file2 + \".txt\",'x')\n",
        "\n",
        "count = 1\n",
        "f2 = open(file2+\".txt\",'a')\n",
        "for li in list1:\n",
        "  s = f\"{count} : {li}\"\n",
        "  f2.writelines(s)\n",
        "  count+=1\n",
        "f2 =open(file2+\".txt\",'r')\n",
        "print(f2.read())\n",
        "f2.close()"
      ]
    },
    {
      "cell_type": "markdown",
      "source": [
        "2. Write a script that identifies the longest word(s) in a file and output a message that\n",
        "includes the length of the longest word, along with all of the words of that length that\n",
        "occurred in the file."
      ],
      "metadata": {
        "id": "wsLNmbbZvL6s"
      }
    },
    {
      "cell_type": "code",
      "source": [
        "file1 = \"/content/drive/MyDrive/Classroom/[MCAP1102] Programming with Python [2022-2023]/for_day5/file1.txt\"\n",
        "\n",
        "f1 = open(file1,\"r\")\n",
        "list1 = []\n",
        "for i in f1.readlines():\n",
        "  list1.append(i.strip())\n",
        "f1.close()\n",
        "sortedList = sorted(list1,key=lambda list1: (len(list1),list1),reverse=True) \n",
        "print(f\"Length of the longest word: {len(sortedList[0])}\")\n",
        "flag = 0\n",
        "for i in sortedList:\n",
        "  if(len(i)==len(sortedList[0])):\n",
        "    print(i,end=\"\\n\")\n",
        "    flag+=1\n",
        "if flag==0: print(\"There are no words with the same length as of the longest word!!!!\")"
      ],
      "metadata": {
        "colab": {
          "base_uri": "https://localhost:8080/"
        },
        "id": "LLR0CknLvcX7",
        "outputId": "20a0436d-5b58-40f9-b56b-01611c507b61"
      },
      "execution_count": 11,
      "outputs": [
        {
          "output_type": "stream",
          "name": "stdout",
          "text": [
            "Length of the longest word: 32\n",
            "ssssssssssssssssssssssssssssssss\n",
            "gggggggggggggggggggggggggggggggg\n",
            "dddddddddddddddddddddddddddddddd\n"
          ]
        }
      ]
    },
    {
      "cell_type": "markdown",
      "source": [
        "3. Create a script that removes all of the comments from a Python source file and save the\n",
        "modified file with a new name."
      ],
      "metadata": {
        "id": "L0dwpYJ13arb"
      }
    },
    {
      "cell_type": "code",
      "source": [
        "path = \"/content/drive/MyDrive/Classroom/[MCAP1102] Programming with Python [2022-2023]/for_day5/\"\n",
        "fileOne = f\"{path}text1.py\"\n",
        "\n",
        "newFile = fileOne.split(\".\")\n",
        "newFile = \"text2.\"+newFile[1]\n",
        "\n",
        "with open(fileOne) as f1:\n",
        "    line=f1.readlines()\n",
        "    \n",
        "list1 = []\n",
        "lock = False\n",
        "assign = False\n",
        "    \n",
        "for i in line: \n",
        "  if lock:\n",
        "    if assign:\n",
        "      list1.append(i)\n",
        "    if '\"\"\"' in i:\n",
        "      lock = False\n",
        "      assign = False\n",
        "  else:\n",
        "    if '\"\"\"' in i:\n",
        "      if '=' in i:\n",
        "        assign = True\n",
        "        list1.append(i)\n",
        "      lock = True\n",
        "      if '\"\"\"' in i.replace('\"\"\"','',1):\n",
        "        lock = False\n",
        "\n",
        "    elif '#' in i:\n",
        "      t = i[:i.index('#')]\n",
        "      if len(t)>0:\n",
        "        list1.append(t+'\\n')\n",
        "                \n",
        "    else:\n",
        "      list1.append(i)\n",
        "            \n",
        "with open(path+newFile, 'w') as f2:\n",
        "    f2.writelines(list1)\n",
        "    \n",
        "print(f\"All types of comments are removed from the Python Source file -> text1.py \\nand the modified version is stored as -> {newFile}\")"
      ],
      "metadata": {
        "id": "hVLprFlU3hEp",
        "colab": {
          "base_uri": "https://localhost:8080/"
        },
        "outputId": "dac94c9f-df9d-4201-a526-cad0720a2d5d"
      },
      "execution_count": 22,
      "outputs": [
        {
          "output_type": "stream",
          "name": "stdout",
          "text": [
            "All types of comments are removed from the Python Source file -> text1.py \n",
            "and the modified version is stored as -> text2.py\n"
          ]
        }
      ]
    },
    {
      "cell_type": "markdown",
      "source": [
        "4. Create a class to represent a point in two-dimensional geometric coordinates. Initialize the\n",
        "position of a new point. In the initializer, the x and y coordinates can be specified. If they\n",
        "are not, the point defaults to the origin. Write methods to i) move the point to a new\n",
        "location in 2D space, ii) reset a point back to the geometric origin (0, 0), iii) calculate the\n",
        "Euclidean distance from a point to a second point passed as an argument. Instantiate\n",
        "objects of the point class and test the methods on the created objects."
      ],
      "metadata": {
        "id": "HF2MdQV93jsJ"
      }
    },
    {
      "cell_type": "code",
      "source": [
        "class Point:\n",
        "    def __init__(self, x=0, y=0):\n",
        "        self.x = x\n",
        "        self.y = y\n",
        "        \n",
        "    # (i)\n",
        "    def moveToNewLocation(self, x_s, y_s):\n",
        "        self.x += x_s\n",
        "        self.y += y_s\n",
        "        \n",
        "    # (ii)\n",
        "    def resetToGeometricOrigin(self):\n",
        "        self.x = self.y = 0\n",
        "        \n",
        "    # (iii)\n",
        "    def euclideanDistance(self, obj):\n",
        "        return ((self.x-obj.x)**2 + (self.y-obj.y)**2)**0.5\n",
        "    \n",
        "    def __str__(self):\n",
        "        return f'x: {self.x}, y: {self.y}'\n",
        "    \n",
        "obj1 = Point()\n",
        "print('Point 1: ', obj1)\n",
        "obj1.moveToNewLocation(4, 2)\n",
        "print('Point 1: ',obj1)\n",
        "obj1.resetToGeometricOrigin()\n",
        "print('Point 1: ',obj1)\n",
        "obj1.moveToNewLocation(4, 8)\n",
        "print('Point 1: ',obj1)\n",
        "\n",
        "obj2 = Point(obj1.y, obj1.x)\n",
        "print('Point 2: ', obj2)\n",
        "obj2.resetToGeometricOrigin()\n",
        "print('Point 2: ', obj2)\n",
        "obj2.moveToNewLocation(2, 5)\n",
        "print('Point 2: ', obj2)\n",
        "\n",
        "print(\"Distance: \", obj1.euclideanDistance(obj2))"
      ],
      "metadata": {
        "id": "FBVP5fhb3oAp",
        "colab": {
          "base_uri": "https://localhost:8080/"
        },
        "outputId": "1f4d376a-2662-430c-d9ec-5ba55654b166"
      },
      "execution_count": 25,
      "outputs": [
        {
          "output_type": "stream",
          "name": "stdout",
          "text": [
            "Point 1:  x: 0, y: 0\n",
            "Point 1:  x: 4, y: 2\n",
            "Point 1:  x: 0, y: 0\n",
            "Point 1:  x: 4, y: 8\n",
            "Point 2:  x: 8, y: 4\n",
            "Point 2:  x: 0, y: 0\n",
            "Point 2:  x: 2, y: 5\n",
            "Distance:  3.605551275463989\n"
          ]
        }
      ]
    }
  ]
}